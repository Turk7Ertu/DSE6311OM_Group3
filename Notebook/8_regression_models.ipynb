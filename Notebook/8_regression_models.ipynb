{
 "cells": [
  {
   "cell_type": "code",
   "execution_count": 383,
   "id": "5252916e",
   "metadata": {},
   "outputs": [],
   "source": [
    "import pandas as pd\n",
    "import seaborn as sns\n",
    "import matplotlib.pyplot as plt\n",
    "import numpy as np\n",
    "from sklearn.model_selection import cross_val_score\n",
    "from sklearn.linear_model import LogisticRegression\n",
    "from sklearn.model_selection import train_test_split\n",
    "from sklearn.dummy import DummyRegressor\n",
    "from sklearn.preprocessing import StandardScaler\n",
    "from sklearn.ensemble import RandomForestRegressor\n",
    "from sklearn.metrics import mean_squared_error, r2_score\n",
    "from pathlib import Path\n",
    "import os\n"
   ]
  },
  {
   "cell_type": "code",
   "execution_count": 384,
   "id": "60b4319e",
   "metadata": {},
   "outputs": [
    {
     "name": "stdout",
     "output_type": "stream",
     "text": [
      "C:\\Users\\turks\\OneDrive\\Masaüstü\\Capstone Project\\Notebook\n"
     ]
    }
   ],
   "source": [
    "# Check and change the current working directory - A.F.\n",
    "print(os.getcwd())\n",
    "os.chdir(Path().resolve())\n",
    "# read in data set with first column (district name) set to index\n",
    "df = pd.read_excel(\"../Data/cleaned_data_encoded.xlsx\", index_col =0)"
   ]
  },
  {
   "cell_type": "code",
   "execution_count": 385,
   "id": "8ce9bc69",
   "metadata": {},
   "outputs": [
    {
     "data": {
      "text/plain": [
       "(223, 23)"
      ]
     },
     "execution_count": 385,
     "metadata": {},
     "output_type": "execute_result"
    }
   ],
   "source": [
    "df.shape"
   ]
  },
  {
   "cell_type": "code",
   "execution_count": 386,
   "id": "af4efcbd",
   "metadata": {},
   "outputs": [],
   "source": [
    "columns_to_drop = [\"dropout_rate_pct\",\"still_in_school_pct\",\"in_district_expenditures\",\n",
    "                   'non_grad_completers_pct', 'hs_equivalency_pct',\n",
    "    \"overall_classification_Not requiring assistance or intervention\",\n",
    "    \"overall_classification_Requiring assistance or intervention\",\n",
    "    \"reason_for_classification_In need of broad/comprehensive support\",\n",
    "    \"reason_for_classification_In need of focused/targeted support\",\n",
    "    \"reason_for_classification_Limited or no progress toward targets\",\n",
    "    \"reason_for_classification_Meeting or exceeding targets\",\n",
    "    \"reason_for_classification_Moderate progress toward targets\",\n",
    "    \"reason_for_classification_Substantial progress toward targets\"\n",
    "]"
   ]
  },
  {
   "cell_type": "markdown",
   "id": "c44597c6",
   "metadata": {},
   "source": [
    "## ET"
   ]
  },
  {
   "cell_type": "code",
   "execution_count": 387,
   "id": "4e875425",
   "metadata": {},
   "outputs": [],
   "source": [
    "# drop the columns_to_drop from df dataset\n",
    "df = df.drop(columns=columns_to_drop)\n"
   ]
  },
  {
   "cell_type": "code",
   "execution_count": 388,
   "id": "355d132d",
   "metadata": {},
   "outputs": [
    {
     "data": {
      "text/html": [
       "<div>\n",
       "<style scoped>\n",
       "    .dataframe tbody tr th:only-of-type {\n",
       "        vertical-align: middle;\n",
       "    }\n",
       "\n",
       "    .dataframe tbody tr th {\n",
       "        vertical-align: top;\n",
       "    }\n",
       "\n",
       "    .dataframe thead th {\n",
       "        text-align: right;\n",
       "    }\n",
       "</style>\n",
       "<table border=\"1\" class=\"dataframe\">\n",
       "  <thead>\n",
       "    <tr style=\"text-align: right;\">\n",
       "      <th></th>\n",
       "      <th>english_learners_pct</th>\n",
       "      <th>students_with_disabilities_pct</th>\n",
       "      <th>progress_toward_improvement_targets_pct</th>\n",
       "      <th>in_district_expenditures_per_pupil</th>\n",
       "      <th>graduation_rate_pct</th>\n",
       "      <th>student_teacher_ratio</th>\n",
       "      <th>experienced_teachers_pct</th>\n",
       "      <th>DOR_income_per_capita</th>\n",
       "      <th>log_in_district_expenditures</th>\n",
       "      <th>needs_income_avg_pct</th>\n",
       "    </tr>\n",
       "    <tr>\n",
       "      <th>district_name</th>\n",
       "      <th></th>\n",
       "      <th></th>\n",
       "      <th></th>\n",
       "      <th></th>\n",
       "      <th></th>\n",
       "      <th></th>\n",
       "      <th></th>\n",
       "      <th></th>\n",
       "      <th></th>\n",
       "      <th></th>\n",
       "    </tr>\n",
       "  </thead>\n",
       "  <tbody>\n",
       "    <tr>\n",
       "      <th>Abington</th>\n",
       "      <td>11.0</td>\n",
       "      <td>17.8</td>\n",
       "      <td>39</td>\n",
       "      <td>16609.95</td>\n",
       "      <td>88.9</td>\n",
       "      <td>13.9</td>\n",
       "      <td>81.3</td>\n",
       "      <td>37848.0</td>\n",
       "      <td>17.387952</td>\n",
       "      <td>40.85</td>\n",
       "    </tr>\n",
       "    <tr>\n",
       "      <th>Acton-Boxborough</th>\n",
       "      <td>6.2</td>\n",
       "      <td>15.5</td>\n",
       "      <td>85</td>\n",
       "      <td>19407.68</td>\n",
       "      <td>96.1</td>\n",
       "      <td>13.0</td>\n",
       "      <td>88.3</td>\n",
       "      <td>69189.5</td>\n",
       "      <td>18.426312</td>\n",
       "      <td>20.10</td>\n",
       "    </tr>\n",
       "    <tr>\n",
       "      <th>Agawam</th>\n",
       "      <td>6.2</td>\n",
       "      <td>18.3</td>\n",
       "      <td>46</td>\n",
       "      <td>20414.91</td>\n",
       "      <td>88.0</td>\n",
       "      <td>12.5</td>\n",
       "      <td>89.4</td>\n",
       "      <td>31126.0</td>\n",
       "      <td>18.091600</td>\n",
       "      <td>46.05</td>\n",
       "    </tr>\n",
       "    <tr>\n",
       "      <th>Amesbury</th>\n",
       "      <td>2.7</td>\n",
       "      <td>23.7</td>\n",
       "      <td>47</td>\n",
       "      <td>22338.70</td>\n",
       "      <td>88.3</td>\n",
       "      <td>10.6</td>\n",
       "      <td>89.0</td>\n",
       "      <td>41139.0</td>\n",
       "      <td>17.503544</td>\n",
       "      <td>40.10</td>\n",
       "    </tr>\n",
       "    <tr>\n",
       "      <th>Amherst-Pelham</th>\n",
       "      <td>7.3</td>\n",
       "      <td>24.2</td>\n",
       "      <td>33</td>\n",
       "      <td>26177.60</td>\n",
       "      <td>90.9</td>\n",
       "      <td>10.2</td>\n",
       "      <td>81.3</td>\n",
       "      <td>34325.0</td>\n",
       "      <td>17.296413</td>\n",
       "      <td>36.90</td>\n",
       "    </tr>\n",
       "  </tbody>\n",
       "</table>\n",
       "</div>"
      ],
      "text/plain": [
       "                  english_learners_pct  students_with_disabilities_pct  \\\n",
       "district_name                                                            \n",
       "Abington                          11.0                            17.8   \n",
       "Acton-Boxborough                   6.2                            15.5   \n",
       "Agawam                             6.2                            18.3   \n",
       "Amesbury                           2.7                            23.7   \n",
       "Amherst-Pelham                     7.3                            24.2   \n",
       "\n",
       "                  progress_toward_improvement_targets_pct  \\\n",
       "district_name                                               \n",
       "Abington                                               39   \n",
       "Acton-Boxborough                                       85   \n",
       "Agawam                                                 46   \n",
       "Amesbury                                               47   \n",
       "Amherst-Pelham                                         33   \n",
       "\n",
       "                  in_district_expenditures_per_pupil  graduation_rate_pct  \\\n",
       "district_name                                                               \n",
       "Abington                                    16609.95                 88.9   \n",
       "Acton-Boxborough                            19407.68                 96.1   \n",
       "Agawam                                      20414.91                 88.0   \n",
       "Amesbury                                    22338.70                 88.3   \n",
       "Amherst-Pelham                              26177.60                 90.9   \n",
       "\n",
       "                  student_teacher_ratio  experienced_teachers_pct  \\\n",
       "district_name                                                       \n",
       "Abington                           13.9                      81.3   \n",
       "Acton-Boxborough                   13.0                      88.3   \n",
       "Agawam                             12.5                      89.4   \n",
       "Amesbury                           10.6                      89.0   \n",
       "Amherst-Pelham                     10.2                      81.3   \n",
       "\n",
       "                  DOR_income_per_capita  log_in_district_expenditures  \\\n",
       "district_name                                                           \n",
       "Abington                        37848.0                     17.387952   \n",
       "Acton-Boxborough                69189.5                     18.426312   \n",
       "Agawam                          31126.0                     18.091600   \n",
       "Amesbury                        41139.0                     17.503544   \n",
       "Amherst-Pelham                  34325.0                     17.296413   \n",
       "\n",
       "                  needs_income_avg_pct  \n",
       "district_name                           \n",
       "Abington                         40.85  \n",
       "Acton-Boxborough                 20.10  \n",
       "Agawam                           46.05  \n",
       "Amesbury                         40.10  \n",
       "Amherst-Pelham                   36.90  "
      ]
     },
     "execution_count": 388,
     "metadata": {},
     "output_type": "execute_result"
    }
   ],
   "source": [
    "df.head()"
   ]
  },
  {
   "cell_type": "code",
   "execution_count": 389,
   "id": "88a3011e",
   "metadata": {},
   "outputs": [
    {
     "name": "stdout",
     "output_type": "stream",
     "text": [
      "No duplicate columns found.\n"
     ]
    }
   ],
   "source": [
    "#find duplicate columns\n",
    "duplicate_columns = df.columns[df.columns.duplicated()].tolist()\n",
    "if duplicate_columns:\n",
    "    print(\"Duplicate columns found:\", duplicate_columns)\n",
    "else:\n",
    "    print(\"No duplicate columns found.\")\n",
    "    "
   ]
  },
  {
   "cell_type": "code",
   "execution_count": 390,
   "id": "5a760b63",
   "metadata": {},
   "outputs": [
    {
     "data": {
      "text/plain": [
       "(Index(['english_learners_pct', 'students_with_disabilities_pct',\n",
       "        'progress_toward_improvement_targets_pct',\n",
       "        'in_district_expenditures_per_pupil', 'graduation_rate_pct',\n",
       "        'student_teacher_ratio', 'experienced_teachers_pct',\n",
       "        'DOR_income_per_capita', 'log_in_district_expenditures',\n",
       "        'needs_income_avg_pct'],\n",
       "       dtype='object'),\n",
       " (223, 10))"
      ]
     },
     "execution_count": 390,
     "metadata": {},
     "output_type": "execute_result"
    }
   ],
   "source": [
    "df.columns, df.shape"
   ]
  },
  {
   "cell_type": "code",
   "execution_count": 391,
   "id": "f807f465",
   "metadata": {},
   "outputs": [
    {
     "data": {
      "text/plain": [
       "english_learners_pct                       float64\n",
       "students_with_disabilities_pct             float64\n",
       "progress_toward_improvement_targets_pct      int64\n",
       "in_district_expenditures_per_pupil         float64\n",
       "graduation_rate_pct                        float64\n",
       "student_teacher_ratio                      float64\n",
       "experienced_teachers_pct                   float64\n",
       "DOR_income_per_capita                      float64\n",
       "log_in_district_expenditures               float64\n",
       "needs_income_avg_pct                       float64\n",
       "dtype: object"
      ]
     },
     "execution_count": 391,
     "metadata": {},
     "output_type": "execute_result"
    }
   ],
   "source": [
    "df.dtypes"
   ]
  },
  {
   "cell_type": "code",
   "execution_count": 392,
   "id": "75435300",
   "metadata": {},
   "outputs": [
    {
     "data": {
      "text/html": [
       "<div>\n",
       "<style scoped>\n",
       "    .dataframe tbody tr th:only-of-type {\n",
       "        vertical-align: middle;\n",
       "    }\n",
       "\n",
       "    .dataframe tbody tr th {\n",
       "        vertical-align: top;\n",
       "    }\n",
       "\n",
       "    .dataframe thead th {\n",
       "        text-align: right;\n",
       "    }\n",
       "</style>\n",
       "<table border=\"1\" class=\"dataframe\">\n",
       "  <thead>\n",
       "    <tr style=\"text-align: right;\">\n",
       "      <th></th>\n",
       "      <th>english_learners_pct</th>\n",
       "      <th>students_with_disabilities_pct</th>\n",
       "      <th>progress_toward_improvement_targets_pct</th>\n",
       "      <th>in_district_expenditures_per_pupil</th>\n",
       "      <th>graduation_rate_pct</th>\n",
       "      <th>student_teacher_ratio</th>\n",
       "      <th>experienced_teachers_pct</th>\n",
       "      <th>DOR_income_per_capita</th>\n",
       "      <th>log_in_district_expenditures</th>\n",
       "      <th>needs_income_avg_pct</th>\n",
       "    </tr>\n",
       "    <tr>\n",
       "      <th>district_name</th>\n",
       "      <th></th>\n",
       "      <th></th>\n",
       "      <th></th>\n",
       "      <th></th>\n",
       "      <th></th>\n",
       "      <th></th>\n",
       "      <th></th>\n",
       "      <th></th>\n",
       "      <th></th>\n",
       "      <th></th>\n",
       "    </tr>\n",
       "  </thead>\n",
       "  <tbody>\n",
       "    <tr>\n",
       "      <th>North Brookfield</th>\n",
       "      <td>5.0</td>\n",
       "      <td>24.6</td>\n",
       "      <td>15</td>\n",
       "      <td>20008.84</td>\n",
       "      <td>66.7</td>\n",
       "      <td>10.8</td>\n",
       "      <td>74.7</td>\n",
       "      <td>30230.0</td>\n",
       "      <td>15.985920</td>\n",
       "      <td>57.20</td>\n",
       "    </tr>\n",
       "    <tr>\n",
       "      <th>Weston</th>\n",
       "      <td>3.3</td>\n",
       "      <td>17.2</td>\n",
       "      <td>86</td>\n",
       "      <td>29581.26</td>\n",
       "      <td>95.0</td>\n",
       "      <td>11.9</td>\n",
       "      <td>82.6</td>\n",
       "      <td>333105.0</td>\n",
       "      <td>17.904114</td>\n",
       "      <td>17.75</td>\n",
       "    </tr>\n",
       "  </tbody>\n",
       "</table>\n",
       "</div>"
      ],
      "text/plain": [
       "                  english_learners_pct  students_with_disabilities_pct  \\\n",
       "district_name                                                            \n",
       "North Brookfield                   5.0                            24.6   \n",
       "Weston                             3.3                            17.2   \n",
       "\n",
       "                  progress_toward_improvement_targets_pct  \\\n",
       "district_name                                               \n",
       "North Brookfield                                       15   \n",
       "Weston                                                 86   \n",
       "\n",
       "                  in_district_expenditures_per_pupil  graduation_rate_pct  \\\n",
       "district_name                                                               \n",
       "North Brookfield                            20008.84                 66.7   \n",
       "Weston                                      29581.26                 95.0   \n",
       "\n",
       "                  student_teacher_ratio  experienced_teachers_pct  \\\n",
       "district_name                                                       \n",
       "North Brookfield                   10.8                      74.7   \n",
       "Weston                             11.9                      82.6   \n",
       "\n",
       "                  DOR_income_per_capita  log_in_district_expenditures  \\\n",
       "district_name                                                           \n",
       "North Brookfield                30230.0                     15.985920   \n",
       "Weston                         333105.0                     17.904114   \n",
       "\n",
       "                  needs_income_avg_pct  \n",
       "district_name                           \n",
       "North Brookfield                 57.20  \n",
       "Weston                           17.75  "
      ]
     },
     "execution_count": 392,
     "metadata": {},
     "output_type": "execute_result"
    }
   ],
   "source": [
    "#find the schools name Weston and NorthBrookfield\n",
    "df[df.index.isin(['Weston', 'North Brookfield'])]"
   ]
  },
  {
   "cell_type": "code",
   "execution_count": 393,
   "id": "0aa5c34e",
   "metadata": {},
   "outputs": [],
   "source": [
    "#Drop these 2 rows \n",
    "df = df.drop(index=['Weston', 'North Brookfield'])"
   ]
  },
  {
   "cell_type": "code",
   "execution_count": 394,
   "id": "d4329ed8",
   "metadata": {},
   "outputs": [
    {
     "data": {
      "text/plain": [
       "(221, 10)"
      ]
     },
     "execution_count": 394,
     "metadata": {},
     "output_type": "execute_result"
    }
   ],
   "source": [
    "df.shape"
   ]
  },
  {
   "cell_type": "code",
   "execution_count": null,
   "id": "568d77b6",
   "metadata": {},
   "outputs": [],
   "source": []
  },
  {
   "cell_type": "markdown",
   "id": "13cfa531",
   "metadata": {},
   "source": [
    "#### create logit transformation of graduation_rate_pct\n",
    "p = df['graduation_rate_pct'] / 100\n",
    "\n",
    "eps = 1e-6  # to avoid division by zero when p=0 or 1\n",
    "df['logit_graduation_rate_pct'] = np.log((p.clip(eps, 1-eps)) / (1 - p.clip(eps, 1-eps)))\n",
    "\n",
    "#### drop graduation_rate_pct column\n",
    "df = df.drop(columns=['graduation_rate_pct'])"
   ]
  },
  {
   "cell_type": "code",
   "execution_count": 395,
   "id": "9d4bea13",
   "metadata": {},
   "outputs": [
    {
     "data": {
      "text/plain": [
       "Index(['english_learners_pct', 'students_with_disabilities_pct',\n",
       "       'progress_toward_improvement_targets_pct',\n",
       "       'in_district_expenditures_per_pupil', 'graduation_rate_pct',\n",
       "       'student_teacher_ratio', 'experienced_teachers_pct',\n",
       "       'DOR_income_per_capita', 'log_in_district_expenditures',\n",
       "       'needs_income_avg_pct'],\n",
       "      dtype='object')"
      ]
     },
     "execution_count": 395,
     "metadata": {},
     "output_type": "execute_result"
    }
   ],
   "source": [
    "df.columns"
   ]
  },
  {
   "cell_type": "code",
   "execution_count": 396,
   "id": "5d759b0c",
   "metadata": {},
   "outputs": [
    {
     "data": {
      "text/html": [
       "<div>\n",
       "<style scoped>\n",
       "    .dataframe tbody tr th:only-of-type {\n",
       "        vertical-align: middle;\n",
       "    }\n",
       "\n",
       "    .dataframe tbody tr th {\n",
       "        vertical-align: top;\n",
       "    }\n",
       "\n",
       "    .dataframe thead th {\n",
       "        text-align: right;\n",
       "    }\n",
       "</style>\n",
       "<table border=\"1\" class=\"dataframe\">\n",
       "  <thead>\n",
       "    <tr style=\"text-align: right;\">\n",
       "      <th></th>\n",
       "      <th>english_learners_pct</th>\n",
       "      <th>students_with_disabilities_pct</th>\n",
       "      <th>progress_toward_improvement_targets_pct</th>\n",
       "      <th>in_district_expenditures_per_pupil</th>\n",
       "      <th>graduation_rate_pct</th>\n",
       "      <th>student_teacher_ratio</th>\n",
       "      <th>experienced_teachers_pct</th>\n",
       "      <th>DOR_income_per_capita</th>\n",
       "      <th>log_in_district_expenditures</th>\n",
       "      <th>needs_income_avg_pct</th>\n",
       "    </tr>\n",
       "    <tr>\n",
       "      <th>district_name</th>\n",
       "      <th></th>\n",
       "      <th></th>\n",
       "      <th></th>\n",
       "      <th></th>\n",
       "      <th></th>\n",
       "      <th></th>\n",
       "      <th></th>\n",
       "      <th></th>\n",
       "      <th></th>\n",
       "      <th></th>\n",
       "    </tr>\n",
       "  </thead>\n",
       "  <tbody>\n",
       "    <tr>\n",
       "      <th>Abington</th>\n",
       "      <td>11.0</td>\n",
       "      <td>17.8</td>\n",
       "      <td>39</td>\n",
       "      <td>16609.95</td>\n",
       "      <td>88.9</td>\n",
       "      <td>13.9</td>\n",
       "      <td>81.3</td>\n",
       "      <td>37848.0</td>\n",
       "      <td>17.387952</td>\n",
       "      <td>40.85</td>\n",
       "    </tr>\n",
       "    <tr>\n",
       "      <th>Acton-Boxborough</th>\n",
       "      <td>6.2</td>\n",
       "      <td>15.5</td>\n",
       "      <td>85</td>\n",
       "      <td>19407.68</td>\n",
       "      <td>96.1</td>\n",
       "      <td>13.0</td>\n",
       "      <td>88.3</td>\n",
       "      <td>69189.5</td>\n",
       "      <td>18.426312</td>\n",
       "      <td>20.10</td>\n",
       "    </tr>\n",
       "    <tr>\n",
       "      <th>Agawam</th>\n",
       "      <td>6.2</td>\n",
       "      <td>18.3</td>\n",
       "      <td>46</td>\n",
       "      <td>20414.91</td>\n",
       "      <td>88.0</td>\n",
       "      <td>12.5</td>\n",
       "      <td>89.4</td>\n",
       "      <td>31126.0</td>\n",
       "      <td>18.091600</td>\n",
       "      <td>46.05</td>\n",
       "    </tr>\n",
       "    <tr>\n",
       "      <th>Amesbury</th>\n",
       "      <td>2.7</td>\n",
       "      <td>23.7</td>\n",
       "      <td>47</td>\n",
       "      <td>22338.70</td>\n",
       "      <td>88.3</td>\n",
       "      <td>10.6</td>\n",
       "      <td>89.0</td>\n",
       "      <td>41139.0</td>\n",
       "      <td>17.503544</td>\n",
       "      <td>40.10</td>\n",
       "    </tr>\n",
       "    <tr>\n",
       "      <th>Amherst-Pelham</th>\n",
       "      <td>7.3</td>\n",
       "      <td>24.2</td>\n",
       "      <td>33</td>\n",
       "      <td>26177.60</td>\n",
       "      <td>90.9</td>\n",
       "      <td>10.2</td>\n",
       "      <td>81.3</td>\n",
       "      <td>34325.0</td>\n",
       "      <td>17.296413</td>\n",
       "      <td>36.90</td>\n",
       "    </tr>\n",
       "  </tbody>\n",
       "</table>\n",
       "</div>"
      ],
      "text/plain": [
       "                  english_learners_pct  students_with_disabilities_pct  \\\n",
       "district_name                                                            \n",
       "Abington                          11.0                            17.8   \n",
       "Acton-Boxborough                   6.2                            15.5   \n",
       "Agawam                             6.2                            18.3   \n",
       "Amesbury                           2.7                            23.7   \n",
       "Amherst-Pelham                     7.3                            24.2   \n",
       "\n",
       "                  progress_toward_improvement_targets_pct  \\\n",
       "district_name                                               \n",
       "Abington                                               39   \n",
       "Acton-Boxborough                                       85   \n",
       "Agawam                                                 46   \n",
       "Amesbury                                               47   \n",
       "Amherst-Pelham                                         33   \n",
       "\n",
       "                  in_district_expenditures_per_pupil  graduation_rate_pct  \\\n",
       "district_name                                                               \n",
       "Abington                                    16609.95                 88.9   \n",
       "Acton-Boxborough                            19407.68                 96.1   \n",
       "Agawam                                      20414.91                 88.0   \n",
       "Amesbury                                    22338.70                 88.3   \n",
       "Amherst-Pelham                              26177.60                 90.9   \n",
       "\n",
       "                  student_teacher_ratio  experienced_teachers_pct  \\\n",
       "district_name                                                       \n",
       "Abington                           13.9                      81.3   \n",
       "Acton-Boxborough                   13.0                      88.3   \n",
       "Agawam                             12.5                      89.4   \n",
       "Amesbury                           10.6                      89.0   \n",
       "Amherst-Pelham                     10.2                      81.3   \n",
       "\n",
       "                  DOR_income_per_capita  log_in_district_expenditures  \\\n",
       "district_name                                                           \n",
       "Abington                        37848.0                     17.387952   \n",
       "Acton-Boxborough                69189.5                     18.426312   \n",
       "Agawam                          31126.0                     18.091600   \n",
       "Amesbury                        41139.0                     17.503544   \n",
       "Amherst-Pelham                  34325.0                     17.296413   \n",
       "\n",
       "                  needs_income_avg_pct  \n",
       "district_name                           \n",
       "Abington                         40.85  \n",
       "Acton-Boxborough                 20.10  \n",
       "Agawam                           46.05  \n",
       "Amesbury                         40.10  \n",
       "Amherst-Pelham                   36.90  "
      ]
     },
     "execution_count": 396,
     "metadata": {},
     "output_type": "execute_result"
    }
   ],
   "source": [
    "df.head()"
   ]
  },
  {
   "cell_type": "code",
   "execution_count": 397,
   "id": "dacaceb7",
   "metadata": {},
   "outputs": [
    {
     "name": "stdout",
     "output_type": "stream",
     "text": [
      "X_train shape: (176, 9)\n",
      "X_test shape: (45, 9)\n",
      "y_train shape: (176,)\n",
      "y_test shape: (45,)\n"
     ]
    }
   ],
   "source": [
    "# E.T.\n",
    "# test train splitfrom sklearn.model_selection import train_test_split\n",
    "\n",
    "# Define features and target variable\n",
    "X = df.drop(columns=['graduation_rate_pct'])\n",
    "y = df['graduation_rate_pct']\n",
    "# Split the data into training and testing sets\n",
    "X_train, X_test, y_train, y_test = train_test_split(X, y, test_size=0.2, random_state=42)\n",
    "# Print the shapes of the resulting datasets\n",
    "print(f\"X_train shape: {X_train.shape}\")\n",
    "print(f\"X_test shape: {X_test.shape}\")\n",
    "print(f\"y_train shape: {y_train.shape}\")\n",
    "print(f\"y_test shape: {y_test.shape}\")"
   ]
  },
  {
   "cell_type": "code",
   "execution_count": 398,
   "id": "05978637",
   "metadata": {},
   "outputs": [
    {
     "data": {
      "image/png": "[encoded data removed]",
      "text/plain": [
       "<Figure size 640x480 with 1 Axes>"
      ]
     },
     "metadata": {},
     "output_type": "display_data"
    },
    {
     "data": {
      "image/png": "[encoded data removed]",
      "text/plain": [
       "<Figure size 640x480 with 1 Axes>"
      ]
     },
     "metadata": {},
     "output_type": "display_data"
    }
   ],
   "source": [
    "#check the datas if normally distributed\n",
    "\n",
    "# Plot the distribution of the target variable\n",
    "sns.histplot(y_train, kde=True)\n",
    "plt.title(\"Distribution of Graduation Rate in Training Set\")\n",
    "plt.xlabel(\"Graduation Rate (%)\")\n",
    "plt.ylabel(\"Frequency\")\n",
    "plt.show()\n",
    "# Plot the distribution of the target variable in the test set\n",
    "sns.histplot(y_test, kde=True)\n",
    "plt.title(\"Distribution of Graduation Rate in Test Set\")\n",
    "plt.xlabel(\"Graduation Rate (%)\")\n",
    "plt.ylabel(\"Frequency\")\n",
    "plt.show()"
   ]
  },
  {
   "cell_type": "markdown",
   "id": "60f76cb6",
   "metadata": {},
   "source": [
    "#### Importing the StandardScaler for feature scaling"
   ]
  },
  {
   "cell_type": "code",
   "execution_count": 399,
   "id": "35440b25",
   "metadata": {},
   "outputs": [
    {
     "data": {
      "text/html": [
       "<div>\n",
       "<style scoped>\n",
       "    .dataframe tbody tr th:only-of-type {\n",
       "        vertical-align: middle;\n",
       "    }\n",
       "\n",
       "    .dataframe tbody tr th {\n",
       "        vertical-align: top;\n",
       "    }\n",
       "\n",
       "    .dataframe thead th {\n",
       "        text-align: right;\n",
       "    }\n",
       "</style>\n",
       "<table border=\"1\" class=\"dataframe\">\n",
       "  <thead>\n",
       "    <tr style=\"text-align: right;\">\n",
       "      <th></th>\n",
       "      <th>english_learners_pct</th>\n",
       "      <th>students_with_disabilities_pct</th>\n",
       "      <th>progress_toward_improvement_targets_pct</th>\n",
       "      <th>in_district_expenditures_per_pupil</th>\n",
       "      <th>student_teacher_ratio</th>\n",
       "      <th>experienced_teachers_pct</th>\n",
       "      <th>DOR_income_per_capita</th>\n",
       "      <th>log_in_district_expenditures</th>\n",
       "      <th>needs_income_avg_pct</th>\n",
       "    </tr>\n",
       "    <tr>\n",
       "      <th>district_name</th>\n",
       "      <th></th>\n",
       "      <th></th>\n",
       "      <th></th>\n",
       "      <th></th>\n",
       "      <th></th>\n",
       "      <th></th>\n",
       "      <th></th>\n",
       "      <th></th>\n",
       "      <th></th>\n",
       "    </tr>\n",
       "  </thead>\n",
       "  <tbody>\n",
       "    <tr>\n",
       "      <th>Winthrop</th>\n",
       "      <td>0.279460</td>\n",
       "      <td>-1.010122</td>\n",
       "      <td>0.158734</td>\n",
       "      <td>-0.942874</td>\n",
       "      <td>0.698806</td>\n",
       "      <td>-1.549542</td>\n",
       "      <td>-0.436992</td>\n",
       "      <td>-0.590673</td>\n",
       "      <td>0.196956</td>\n",
       "    </tr>\n",
       "    <tr>\n",
       "      <th>Masconomet</th>\n",
       "      <td>-0.795053</td>\n",
       "      <td>0.224900</td>\n",
       "      <td>0.388198</td>\n",
       "      <td>0.891790</td>\n",
       "      <td>-0.133143</td>\n",
       "      <td>1.181490</td>\n",
       "      <td>0.958295</td>\n",
       "      <td>-0.469751</td>\n",
       "      <td>-1.251717</td>\n",
       "    </tr>\n",
       "    <tr>\n",
       "      <th>North Adams</th>\n",
       "      <td>-0.725729</td>\n",
       "      <td>1.645176</td>\n",
       "      <td>-0.587024</td>\n",
       "      <td>1.084742</td>\n",
       "      <td>-1.658384</td>\n",
       "      <td>-1.032860</td>\n",
       "      <td>-1.030252</td>\n",
       "      <td>-0.733176</td>\n",
       "      <td>1.736172</td>\n",
       "    </tr>\n",
       "    <tr>\n",
       "      <th>Middleborough</th>\n",
       "      <td>-0.552421</td>\n",
       "      <td>-0.145606</td>\n",
       "      <td>-1.160684</td>\n",
       "      <td>-0.465801</td>\n",
       "      <td>1.461426</td>\n",
       "      <td>0.325275</td>\n",
       "      <td>-0.551624</td>\n",
       "      <td>0.094778</td>\n",
       "      <td>0.204945</td>\n",
       "    </tr>\n",
       "    <tr>\n",
       "      <th>Quincy</th>\n",
       "      <td>1.076679</td>\n",
       "      <td>0.348403</td>\n",
       "      <td>0.158734</td>\n",
       "      <td>-0.357807</td>\n",
       "      <td>0.976122</td>\n",
       "      <td>-0.161882</td>\n",
       "      <td>-0.442582</td>\n",
       "      <td>1.600840</td>\n",
       "      <td>0.852055</td>\n",
       "    </tr>\n",
       "  </tbody>\n",
       "</table>\n",
       "</div>"
      ],
      "text/plain": [
       "               english_learners_pct  students_with_disabilities_pct  \\\n",
       "district_name                                                         \n",
       "Winthrop                   0.279460                       -1.010122   \n",
       "Masconomet                -0.795053                        0.224900   \n",
       "North Adams               -0.725729                        1.645176   \n",
       "Middleborough             -0.552421                       -0.145606   \n",
       "Quincy                     1.076679                        0.348403   \n",
       "\n",
       "               progress_toward_improvement_targets_pct  \\\n",
       "district_name                                            \n",
       "Winthrop                                      0.158734   \n",
       "Masconomet                                    0.388198   \n",
       "North Adams                                  -0.587024   \n",
       "Middleborough                                -1.160684   \n",
       "Quincy                                        0.158734   \n",
       "\n",
       "               in_district_expenditures_per_pupil  student_teacher_ratio  \\\n",
       "district_name                                                              \n",
       "Winthrop                                -0.942874               0.698806   \n",
       "Masconomet                               0.891790              -0.133143   \n",
       "North Adams                              1.084742              -1.658384   \n",
       "Middleborough                           -0.465801               1.461426   \n",
       "Quincy                                  -0.357807               0.976122   \n",
       "\n",
       "               experienced_teachers_pct  DOR_income_per_capita  \\\n",
       "district_name                                                    \n",
       "Winthrop                      -1.549542              -0.436992   \n",
       "Masconomet                     1.181490               0.958295   \n",
       "North Adams                   -1.032860              -1.030252   \n",
       "Middleborough                  0.325275              -0.551624   \n",
       "Quincy                        -0.161882              -0.442582   \n",
       "\n",
       "               log_in_district_expenditures  needs_income_avg_pct  \n",
       "district_name                                                      \n",
       "Winthrop                          -0.590673              0.196956  \n",
       "Masconomet                        -0.469751             -1.251717  \n",
       "North Adams                       -0.733176              1.736172  \n",
       "Middleborough                      0.094778              0.204945  \n",
       "Quincy                             1.600840              0.852055  "
      ]
     },
     "execution_count": 399,
     "metadata": {},
     "output_type": "execute_result"
    }
   ],
   "source": [
    "# Initialize the scaler\n",
    "scaler = StandardScaler()\n",
    "\n",
    "# Fit the scaler on the training data and transform both training and testing data\n",
    "X_train_scaled = scaler.fit_transform(X_train)\n",
    "X_test_scaled = scaler.transform(X_test)\n",
    "\n",
    "# Convert the scaled arrays back to DataFrames\n",
    "X_train_scaled = pd.DataFrame(X_train_scaled, columns=X_train.columns, index=X_train.index)\n",
    "X_test_scaled = pd.DataFrame(X_test_scaled, columns=X_test.columns, index=X_test.index)\n",
    "\n",
    "# Print the first few rows of the scaled training data\n",
    "X_train_scaled.head()\n",
    "\n"
   ]
  },
  {
   "cell_type": "markdown",
   "id": "436752b4",
   "metadata": {},
   "source": [
    "#### Checking the Cross validation scores and fitting the models to our train dataset"
   ]
  },
  {
   "cell_type": "code",
   "execution_count": 400,
   "id": "5185ea4b",
   "metadata": {},
   "outputs": [
    {
     "name": "stdout",
     "output_type": "stream",
     "text": [
      "Cross-validation MSE scores: [16.72092747 20.24074003 17.87707817 12.96840994 17.93683746]\n",
      "Mean MSE: 17.14879861444441\n",
      "Standard Deviation of MSE: 2.3820252391189833\n"
     ]
    }
   ],
   "source": [
    "# Create RandomForestRegressor model by using Crossvalidation\n",
    "\n",
    "\n",
    "# Initialize the model\n",
    "rf_model_2 = RandomForestRegressor(n_estimators=100, random_state=42)\n",
    "\n",
    "# Perform cross-validation\n",
    "rf_cv_scores = cross_val_score(rf_model_2, X_train_scaled, y_train, cv=5, scoring='neg_mean_squared_error')\n",
    "\n",
    "# Convert negative MSE scores to positive\n",
    "rf_cv_scores = -rf_cv_scores\n",
    "\n",
    "# Print the cross-validation scores\n",
    "print(\"Cross-validation MSE scores:\", rf_cv_scores)\n",
    "print(\"Mean MSE:\", np.mean(rf_cv_scores))\n",
    "print(\"Standard Deviation of MSE:\", np.std(rf_cv_scores))"
   ]
  },
  {
   "cell_type": "markdown",
   "id": "b3104309",
   "metadata": {},
   "source": [
    "#### Lets see after fitting the RF model to train dataset, see the training datasets MSE scores and R2"
   ]
  },
  {
   "cell_type": "code",
   "execution_count": 401,
   "id": "c94523e4",
   "metadata": {},
   "outputs": [
    {
     "name": "stdout",
     "output_type": "stream",
     "text": [
      "Train MSE: 2.534905244318198\n",
      "Train R2: 0.9482348362093225\n"
     ]
    }
   ],
   "source": [
    "#### Lets see after fitting the RF model to train dataset, see the training datasets MSE scores and R2\n",
    "# Fit the model\n",
    "rf_model_2.fit(X_train_scaled, y_train)\n",
    "\n",
    "# Predict on the training set\n",
    "y_train_pred_rf = rf_model_2.predict(X_train_scaled)\n",
    "\n",
    "# Training set metrics\n",
    "print(\"Train MSE:\", mean_squared_error(y_train, y_train_pred_rf))\n",
    "print(\"Train R2:\", r2_score(y_train, y_train_pred_rf))\n"
   ]
  },
  {
   "cell_type": "code",
   "execution_count": 402,
   "id": "a6bb483a",
   "metadata": {},
   "outputs": [
    {
     "name": "stdout",
     "output_type": "stream",
     "text": [
      "Test MSE (RF): 13.799612088888898\n",
      "Test R2 (RF): 0.6794596454215867\n"
     ]
    }
   ],
   "source": [
    "#use rf_model_2 to predict the graduation rate for the test set\n",
    "y_pred_test_rf = rf_model_2.predict(X_test_scaled)\n",
    "\n",
    "# Calculate metrics on test set\n",
    "test_mse_rf = mean_squared_error(y_test, y_pred_test_rf)\n",
    "test_r2_rf = r2_score(y_test, y_pred_test_rf)\n",
    "\n",
    "print(\"Test MSE (RF):\", test_mse_rf)\n",
    "print(\"Test R2 (RF):\", test_r2_rf)"
   ]
  },
  {
   "cell_type": "markdown",
   "id": "b604a8a7",
   "metadata": {},
   "source": [
    "#### Perform Hyperparamter tuning of Random forest "
   ]
  },
  {
   "cell_type": "code",
   "execution_count": 403,
   "id": "19971dd3",
   "metadata": {},
   "outputs": [
    {
     "name": "stdout",
     "output_type": "stream",
     "text": [
      "Fitting 5 folds for each of 50 candidates, totalling 250 fits\n",
      "Best Parameters: {'n_estimators': 200, 'min_samples_split': 10, 'min_samples_leaf': 2, 'max_features': 'log2', 'max_depth': None}\n",
      "Cross-validation MSE scores: [16.95949274 18.68322745 15.95249023 12.69197294 15.0108768 ]\n",
      "Mean MSE: 15.859612033716592\n",
      "Standard Deviation of MSE: 1.9972709824415062\n"
     ]
    }
   ],
   "source": [
    "from sklearn.ensemble import RandomForestRegressor\n",
    "from sklearn.model_selection import RandomizedSearchCV\n",
    "from sklearn.model_selection import cross_val_score\n",
    "import numpy as np\n",
    "\n",
    "\n",
    "rf_model = RandomForestRegressor(random_state=42)\n",
    "\n",
    "\n",
    "param_distributions = {\n",
    "    'n_estimators': [100, 200, 300, 500],\n",
    "    'max_depth': [None, 10, 20, 30, 50],\n",
    "    'min_samples_split': [2, 5, 10],\n",
    "    'min_samples_leaf': [1, 2, 4],\n",
    "    'max_features': ['sqrt', 'log2']  # Removed 'auto'\n",
    "}\n",
    "\n",
    "\n",
    "\n",
    "random_search = RandomizedSearchCV(\n",
    "    estimator=rf_model,\n",
    "    param_distributions=param_distributions,\n",
    "    n_iter=50,  # Number of parameter settings sampled\n",
    "    scoring='neg_mean_squared_error',\n",
    "    cv=5,\n",
    "    verbose=2,\n",
    "    random_state=42,\n",
    "    n_jobs=-1  # Use all available cores\n",
    ")\n",
    "\n",
    "# Fit on training data\n",
    "random_search.fit(X_train_scaled, y_train)\n",
    "\n",
    "#best model\n",
    "best_rf_model = random_search.best_estimator_\n",
    "\n",
    "#cross-validation\n",
    "rf_cv_scores = cross_val_score(best_rf_model, X_train_scaled, y_train, cv=5, scoring='neg_mean_squared_error')\n",
    "rf_cv_scores = -rf_cv_scores\n",
    "\n",
    "print(\"Best Parameters:\", random_search.best_params_)\n",
    "print(\"Cross-validation MSE scores:\", rf_cv_scores)\n",
    "print(\"Mean MSE:\", np.mean(rf_cv_scores))\n",
    "print(\"Standard Deviation of MSE:\", np.std(rf_cv_scores))\n"
   ]
  },
  {
   "cell_type": "code",
   "execution_count": 404,
   "id": "68bd12bb",
   "metadata": {},
   "outputs": [
    {
     "name": "stdout",
     "output_type": "stream",
     "text": [
      "Train MSE (Best RF): 6.610952942486418\n",
      "Train R2 (Best RF): 0.8649980851760337\n"
     ]
    }
   ],
   "source": [
    "# Check metrics for training set\n",
    "best_rf_model.fit(X_train_scaled, y_train)\n",
    "y_train_pred_rf_best = best_rf_model.predict(X_train_scaled)\n",
    "\n",
    "# Training set metrics for best RF model\n",
    "print(\"Train MSE (Best RF):\", mean_squared_error(y_train, y_train_pred_rf_best))\n",
    "print(\"Train R2 (Best RF):\", r2_score(y_train, y_train_pred_rf_best))"
   ]
  },
  {
   "cell_type": "code",
   "execution_count": 405,
   "id": "7480cac0",
   "metadata": {},
   "outputs": [
    {
     "name": "stdout",
     "output_type": "stream",
     "text": [
      "Test MSE: 13.926162838327167\n",
      "Test R2: 0.6765200974230043\n"
     ]
    }
   ],
   "source": [
    "# Using the best_rf_model from the first tunning.\n",
    "\n",
    "from sklearn.metrics import mean_squared_error, r2_score\n",
    "\n",
    "# Predict on test set\n",
    "y_pred_test = best_rf_model.predict(X_test_scaled)\n",
    "\n",
    "# Calculate metrics on test set\n",
    "test_mse = mean_squared_error(y_test, y_pred_test)\n",
    "test_r2 = r2_score(y_test, y_pred_test)\n",
    "\n",
    "print(\"Test MSE:\", test_mse)\n",
    "print(\"Test R2:\", test_r2)"
   ]
  },
  {
   "cell_type": "code",
   "execution_count": 406,
   "id": "6d206beb",
   "metadata": {},
   "outputs": [
    {
     "data": {
      "image/png": "[encoded data removed]",
      "text/plain": [
       "<Figure size 1000x600 with 1 Axes>"
      ]
     },
     "metadata": {},
     "output_type": "display_data"
    }
   ],
   "source": [
    "#residuals plot for the best_rf_model\n",
    "residuals = y_test - y_pred_test\n",
    "plt.figure(figsize=(10, 6))\n",
    "sns.scatterplot(x=y_pred_test, y=residuals)\n",
    "plt.axhline(0, color='red', linestyle='--')\n",
    "plt.title(\"Residuals vs Predicted Values\")\n",
    "plt.xlabel(\"Predicted Graduation Rate (%)\")\n",
    "plt.ylabel(\"Residuals\")\n",
    "plt.show()"
   ]
  },
  {
   "cell_type": "code",
   "execution_count": 407,
   "id": "bb022c3e",
   "metadata": {},
   "outputs": [
    {
     "data": {
      "image/png": "[encoded data removed]",
      "text/plain": [
       "<Figure size 1000x600 with 1 Axes>"
      ]
     },
     "metadata": {},
     "output_type": "display_data"
    }
   ],
   "source": [
    "#residuals plot for the rf_model_2\n",
    "residuals_rf = y_test - y_pred_test_rf\n",
    "plt.figure(figsize=(10, 6))\n",
    "sns.scatterplot(x=y_pred_test_rf, y=residuals_rf)\n",
    "plt.axhline(0, color='red', linestyle='--')\n",
    "plt.title(\"Residuals vs Predicted Values (RF Model)\")\n",
    "plt.xlabel(\"Predicted Graduation Rate (%)\")\n",
    "plt.ylabel(\"Residuals\")\n",
    "plt.show()"
   ]
  },
  {
   "cell_type": "markdown",
   "id": "b14a3d82",
   "metadata": {},
   "source": [
    "## XGBOOST MODEL \n",
    "\n",
    "#### E.T."
   ]
  },
  {
   "cell_type": "code",
   "execution_count": 408,
   "id": "201d45af",
   "metadata": {},
   "outputs": [
    {
     "name": "stdout",
     "output_type": "stream",
     "text": [
      "XGBoost Cross-validation MSE scores: [27.20108513 23.09804587 19.39571041 12.95533592 19.49675295]\n",
      "Mean MSE (XGBoost): 20.429386055591873\n",
      "Standard Deviation of MSE (XGBoost): 4.706960140935808\n"
     ]
    }
   ],
   "source": [
    "# XGBoost cross-validation\n",
    "from xgboost import XGBRegressor\n",
    "from sklearn.model_selection import cross_val_score \n",
    "\n",
    "xgb_model_cv = XGBRegressor(objective='reg:squarederror', random_state=42)\n",
    "xgb_cv_scores = cross_val_score(xgb_model_cv, X_train_scaled, y_train, cv=5, scoring='neg_mean_squared_error')\n",
    "\n",
    "# Convert negative MSE scores to positive\n",
    "xgb_cv_scores = -xgb_cv_scores\n",
    "\n",
    "print(\"XGBoost Cross-validation MSE scores:\", xgb_cv_scores)\n",
    "print(\"Mean MSE (XGBoost):\", np.mean(xgb_cv_scores))\n",
    "print(\"Standard Deviation of MSE (XGBoost):\", np.std(xgb_cv_scores))"
   ]
  },
  {
   "cell_type": "code",
   "execution_count": 409,
   "id": "d660f856",
   "metadata": {},
   "outputs": [
    {
     "name": "stdout",
     "output_type": "stream",
     "text": [
      "Train MSE (XGBoost): 9.027582101139514e-07\n",
      "Train R2 (XGBoost): 0.9999999815648231\n"
     ]
    }
   ],
   "source": [
    "# XGBoost model metrics for training set\n",
    "xgb_model_cv.fit(X_train_scaled, y_train)\n",
    "y_train_pred_xgb = xgb_model_cv.predict(X_train_scaled) \n",
    "\n",
    "# Training set metrics for XGBoost\n",
    "print(\"Train MSE (XGBoost):\", mean_squared_error(y_train, y_train_pred_xgb))\n",
    "print(\"Train R2 (XGBoost):\", r2_score(y_train, y_train_pred_xgb))"
   ]
  },
  {
   "cell_type": "code",
   "execution_count": 410,
   "id": "3a826d01",
   "metadata": {},
   "outputs": [
    {
     "name": "stdout",
     "output_type": "stream",
     "text": [
      "Test MSE (XGBoost): 12.265545629249775\n",
      "Test R2 (XGBoost): 0.715093270754831\n"
     ]
    }
   ],
   "source": [
    "# check metrics for test set\n",
    "y_pred_test_xgb = xgb_model_cv.predict(X_test_scaled)\n",
    "\n",
    "# Calculate metrics on test set\n",
    "test_mse_xgb = mean_squared_error(y_test, y_pred_test_xgb)\n",
    "test_r2_xgb = r2_score(y_test, y_pred_test_xgb)\n",
    "\n",
    "print(\"Test MSE (XGBoost):\", test_mse_xgb)\n",
    "print(\"Test R2 (XGBoost):\", test_r2_xgb)"
   ]
  },
  {
   "cell_type": "code",
   "execution_count": 411,
   "id": "f2b8d5ad",
   "metadata": {},
   "outputs": [
    {
     "data": {
      "image/png": "[encoded data removed]",
      "text/plain": [
       "<Figure size 1000x600 with 1 Axes>"
      ]
     },
     "metadata": {},
     "output_type": "display_data"
    }
   ],
   "source": [
    "#check residuals for xgboost model\n",
    "residuals_xgb = y_test - y_pred_test_xgb\n",
    "plt.figure(figsize=(10, 6))\n",
    "sns.scatterplot(x=y_pred_test_xgb, y=residuals_xgb)\n",
    "plt.axhline(0, color='red', linestyle='--')\n",
    "plt.title(\"Residuals vs Predicted Values (XGBoost Model)\")\n",
    "plt.xlabel(\"Predicted Graduation Rate (%)\")\n",
    "plt.ylabel(\"Residuals\")\n",
    "plt.show()"
   ]
  },
  {
   "cell_type": "markdown",
   "id": "d2c219d0",
   "metadata": {},
   "source": [
    "### Different Regression Models\n",
    "\n",
    "##### Support Vector Regression(SVR)"
   ]
  },
  {
   "cell_type": "code",
   "execution_count": 412,
   "id": "d8a1bc84",
   "metadata": {},
   "outputs": [
    {
     "name": "stdout",
     "output_type": "stream",
     "text": [
      "SVR Cross-validation MSE scores: [39.65765664 30.06950472 20.26533655 23.51904392 18.64086031]\n",
      "Mean MSE (SVR): 26.43048042847091\n",
      "Standard Deviation of MSE (SVR): 7.685887474836358\n"
     ]
    }
   ],
   "source": [
    "#check SVR model for cross validation\n",
    "from sklearn.svm import SVR\n",
    "\n",
    "svr_model = SVR(kernel='rbf')\n",
    "svr_cv_scores = cross_val_score(svr_model, X_train_scaled, y_train, cv=5, scoring='neg_mean_squared_error')\n",
    "\n",
    "# Convert negative MSE scores to positive\n",
    "svr_cv_scores = -svr_cv_scores\n",
    "\n",
    "print(\"SVR Cross-validation MSE scores:\", svr_cv_scores)\n",
    "print(\"Mean MSE (SVR):\", np.mean(svr_cv_scores))\n",
    "print(\"Standard Deviation of MSE (SVR):\", np.std(svr_cv_scores))"
   ]
  },
  {
   "cell_type": "code",
   "execution_count": 413,
   "id": "a3bfe421",
   "metadata": {},
   "outputs": [
    {
     "name": "stdout",
     "output_type": "stream",
     "text": [
      "Train MSE (SVR): 21.12222028625674\n",
      "Train R2 (SVR): 0.5686642744569583\n"
     ]
    }
   ],
   "source": [
    "#Check svr model metrics for training set\n",
    "svr_model.fit(X_train_scaled, y_train)\n",
    "y_train_pred_svr = svr_model.predict(X_train_scaled)\n",
    "\n",
    "# Training set metrics for SVR\n",
    "print(\"Train MSE (SVR):\", mean_squared_error(y_train, y_train_pred_svr))\n",
    "print(\"Train R2 (SVR):\", r2_score(y_train, y_train_pred_svr))"
   ]
  },
  {
   "cell_type": "code",
   "execution_count": 414,
   "id": "0adff384",
   "metadata": {},
   "outputs": [
    {
     "name": "stdout",
     "output_type": "stream",
     "text": [
      "Test MSE (SVR): 23.53471614154744\n",
      "Test R2 (SVR): 0.4533305568068813\n"
     ]
    }
   ],
   "source": [
    "#Create SVR model\n",
    "from sklearn.svm import SVR\n",
    "\n",
    "# Initialize the SVR model\n",
    "svr_model = SVR(kernel='rbf', C=1.0, epsilon=0.1)\n",
    "\n",
    "# Fit the model\n",
    "svr_model.fit(X_train_scaled, y_train)\n",
    "\n",
    "# Predict on the test set\n",
    "y_pred_test_svr = svr_model.predict(X_test_scaled)\n",
    "\n",
    "# Calculate metrics on test set\n",
    "test_mse_svr = mean_squared_error(y_test, y_pred_test_svr)\n",
    "test_r2_svr = r2_score(y_test, y_pred_test_svr)\n",
    "\n",
    "print(\"Test MSE (SVR):\", test_mse_svr)\n",
    "print(\"Test R2 (SVR):\", test_r2_svr)\n"
   ]
  },
  {
   "cell_type": "code",
   "execution_count": 415,
   "id": "123d1a07",
   "metadata": {},
   "outputs": [
    {
     "data": {
      "image/png": "[encoded data removed]",
      "text/plain": [
       "<Figure size 1000x600 with 1 Axes>"
      ]
     },
     "metadata": {},
     "output_type": "display_data"
    }
   ],
   "source": [
    "#Residuals plot for the SVR model\n",
    "residuals_svr = y_test - y_pred_test_svr\n",
    "plt.figure(figsize=(10, 6))\n",
    "sns.scatterplot(x=y_pred_test_svr, y=residuals_svr)\n",
    "plt.axhline(0, color='red', linestyle='--')\n",
    "plt.title(\"Residuals vs Predicted Values (SVR Model)\")\n",
    "plt.xlabel(\"Predicted Graduation Rate (%)\")\n",
    "plt.ylabel(\"Residuals\")\n",
    "plt.show()"
   ]
  },
  {
   "cell_type": "code",
   "execution_count": 416,
   "id": "ab0c6214",
   "metadata": {},
   "outputs": [],
   "source": [
    "# !pip install catboost"
   ]
  },
  {
   "cell_type": "code",
   "execution_count": 417,
   "id": "274e41e0",
   "metadata": {},
   "outputs": [
    {
     "name": "stdout",
     "output_type": "stream",
     "text": [
      "CatBoost Cross-validation MSE scores: [19.67740813 23.08447171 15.93325955 16.35640524 16.2305397 ]\n",
      "Mean MSE (CatBoost): 18.256416865688717\n",
      "Standard Deviation of MSE (CatBoost): 2.772746366838874\n"
     ]
    }
   ],
   "source": [
    "#check metrics for CatBoost model cross-validation\n",
    "from catboost import CatBoostRegressor\n",
    "catboost_model = CatBoostRegressor(iterations=1000, learning_rate=0.1, depth=6, random_seed=42, verbose=0)\n",
    "catboost_cv_scores = cross_val_score(catboost_model, X_train_scaled, y_train, cv=5, scoring='neg_mean_squared_error')\n",
    "\n",
    "# Convert negative MSE scores to positive\n",
    "catboost_cv_scores = -catboost_cv_scores\n",
    "\n",
    "print(\"CatBoost Cross-validation MSE scores:\", catboost_cv_scores)\n",
    "print(\"Mean MSE (CatBoost):\", np.mean(catboost_cv_scores))\n",
    "print(\"Standard Deviation of MSE (CatBoost):\", np.std(catboost_cv_scores))"
   ]
  },
  {
   "cell_type": "code",
   "execution_count": 418,
   "id": "915e5621",
   "metadata": {},
   "outputs": [
    {
     "name": "stdout",
     "output_type": "stream",
     "text": [
      "Train MSE (CatBoost): 2.8250906342440056e-06\n",
      "Train R2 (CatBoost): 0.9999999423089759\n"
     ]
    }
   ],
   "source": [
    "#check the metrics for catboost model for training set\n",
    "catboost_model.fit(X_train_scaled, y_train)\n",
    "y_train_pred_catboost = catboost_model.predict(X_train_scaled)\n",
    "\n",
    "# Training set metrics for CatBoost\n",
    "print(\"Train MSE (CatBoost):\", mean_squared_error(y_train, y_train_pred_catboost))\n",
    "print(\"Train R2 (CatBoost):\", r2_score(y_train, y_train_pred_catboost))"
   ]
  },
  {
   "cell_type": "code",
   "execution_count": 419,
   "id": "ba049cc9",
   "metadata": {},
   "outputs": [
    {
     "name": "stdout",
     "output_type": "stream",
     "text": [
      "Test MSE (CatBoost): 12.513514213776878\n",
      "Test R2 (CatBoost): 0.7093334031950302\n"
     ]
    }
   ],
   "source": [
    "#Check the metrics for catboost model for test set\n",
    "y_pred_test_catboost = catboost_model.predict(X_test_scaled)\n",
    "\n",
    "# Calculate metrics on test set\n",
    "test_mse_catboost = mean_squared_error(y_test, y_pred_test_catboost)\n",
    "test_r2_catboost = r2_score(y_test, y_pred_test_catboost)\n",
    "\n",
    "print(\"Test MSE (CatBoost):\", test_mse_catboost)\n",
    "print(\"Test R2 (CatBoost):\", test_r2_catboost)"
   ]
  },
  {
   "cell_type": "code",
   "execution_count": 420,
   "id": "d016f169",
   "metadata": {},
   "outputs": [
    {
     "data": {
      "image/png": "[encoded data removed]",
      "text/plain": [
       "<Figure size 1000x600 with 1 Axes>"
      ]
     },
     "metadata": {},
     "output_type": "display_data"
    }
   ],
   "source": [
    "# residuals plot for the CatBoost model\n",
    "residuals_catboost = y_test - y_pred_test_catboost\n",
    "plt.figure(figsize=(10, 6))\n",
    "sns.scatterplot(x=y_pred_test_catboost, y=residuals_catboost)\n",
    "plt.axhline(0, color='red', linestyle='--')\n",
    "plt.title(\"Residuals vs Predicted Values (CatBoost Model)\")\n",
    "plt.xlabel(\"Predicted Graduation Rate (%)\")\n",
    "plt.ylabel(\"Residuals\")\n",
    "plt.show()"
   ]
  },
  {
   "cell_type": "code",
   "execution_count": null,
   "id": "af371efb",
   "metadata": {},
   "outputs": [],
   "source": []
  },
  {
   "cell_type": "code",
   "execution_count": null,
   "id": "f4168b61",
   "metadata": {},
   "outputs": [],
   "source": []
  },
  {
   "cell_type": "code",
   "execution_count": null,
   "id": "3c108b7d",
   "metadata": {},
   "outputs": [],
   "source": []
  },
  {
   "cell_type": "code",
   "execution_count": null,
   "id": "e8a62c8d",
   "metadata": {},
   "outputs": [],
   "source": []
  },
  {
   "cell_type": "code",
   "execution_count": null,
   "id": "2d9314fb",
   "metadata": {},
   "outputs": [],
   "source": []
  },
  {
   "cell_type": "code",
   "execution_count": null,
   "id": "9ec57953",
   "metadata": {},
   "outputs": [],
   "source": []
  },
  {
   "cell_type": "code",
   "execution_count": null,
   "id": "3f6f921f",
   "metadata": {},
   "outputs": [],
   "source": []
  }
 ],
 "metadata": {
  "kernelspec": {
   "display_name": "base",
   "language": "python",
   "name": "python3"
  },
  "language_info": {
   "codemirror_mode": {
    "name": "ipython",
    "version": 3
   },
   "file_extension": ".py",
   "mimetype": "text/x-python",
   "name": "python",
   "nbconvert_exporter": "python",
   "pygments_lexer": "ipython3",
   "version": "3.13.5"
  }
 },
 "nbformat": 4,
 "nbformat_minor": 5
}
