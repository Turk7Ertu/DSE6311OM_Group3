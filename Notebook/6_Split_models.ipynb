{
 "cells": [
  {
   "cell_type": "code",
   "execution_count": null,
   "id": "a3b4c8e0",
   "metadata": {},
   "outputs": [],
   "source": [
    "import pandas as pd\n",
    "import seaborn as sns\n",
    "import matplotlib.pyplot as plt\n",
    "import numpy as np\n",
    "from sklearn.model_selection import cross_val_score\n",
    "from sklearn.linear_model import LogisticRegression\n",
    "from sklearn.model_selection import train_test_split\n",
    "from sklearn.dummy import DummyRegressor\n",
    "from sklearn.preprocessing import StandardScaler\n",
    "from sklearn.ensemble import RandomForestRegressor\n",
    "from sklearn.metrics import mean_squared_error, r2_score\n",
    "from pathlib import Path\n",
    "import os\n"
   ]
  },
  {
   "cell_type": "code",
   "execution_count": null,
   "id": "9261ff47",
   "metadata": {},
   "outputs": [],
   "source": [
    "# Check and change the current working directory - A.F.\n",
    "print(os.getcwd())\n",
    "os.chdir(Path().resolve())\n",
    "# read in data set with first column (district name) set to index\n",
    "df = pd.read_excel(\"../Data/cleaned_data_encoded.xlsx\", index_col =0)\n"
   ]
  },
  {
   "cell_type": "code",
   "execution_count": null,
   "id": "b1dbaf40",
   "metadata": {},
   "outputs": [],
   "source": [
    "school_controlled = [\n",
    "    \"in_district_expenditures\",\n",
    "    \"in_district_expenditures_per_pupil\",\n",
    "    \"log_in_district_expenditures\",\n",
    "    \"progress_toward_improvement_targets_pct\",\n",
    "    \"graduation_rate_pct\",\n",
    "    \"still_in_school_pct\",\n",
    "    \"non_grad_completers_pct\",\n",
    "    \"hs_equivalency_pct\",\n",
    "    \"dropout_rate_pct\",\n",
    "    \"overall_classification_Not requiring assistance or intervention\",\n",
    "    \"overall_classification_Requiring assistance or intervention\",\n",
    "    \"reason_for_classification_In need of broad/comprehensive support\",\n",
    "    \"reason_for_classification_In need of focused/targeted support\",\n",
    "    \"reason_for_classification_Limited or no progress toward targets\",\n",
    "    \"reason_for_classification_Meeting or exceeding targets\",\n",
    "    \"reason_for_classification_Moderate progress toward targets\",\n",
    "    \"reason_for_classification_Substantial progress toward targets\"\n",
    "]\n",
    "\n",
    "outside_school_control = [\n",
    "    \"graduation_rate_pct\",\n",
    "    \"english_learners_pct\",\n",
    "    \"students_with_disabilities_pct\",\n",
    "    \"needs_income_avg_pc\"\n",
    "]\n",
    "\n",
    "df_school_controlled = df[school_controlled]\n",
    "df_outside_control = df[outside_school_control]\n",
    "columns_to_drop = [\"dropout_rate_pct\",\"still_in_school_pct\",\n",
    "    \"dropout_rate_pct\",\n",
    "    \"overall_classification_Not requiring assistance or intervention\",\n",
    "    \"overall_classification_Requiring assistance or intervention\",\n",
    "    \"reason_for_classification_In need of broad/comprehensive support\",\n",
    "    \"reason_for_classification_In need of focused/targeted support\",\n",
    "    \"reason_for_classification_Limited or no progress toward targets\",\n",
    "    \"reason_for_classification_Meeting or exceeding targets\",\n",
    "    \"reason_for_classification_Moderate progress toward targets\",\n",
    "    \"reason_for_classification_Substantial progress toward targets\"\n",
    "]\n",
    "\n",
    "df_school_controlled = df_school_controlled.drop(columns=columns_to_drop)"
   ]
  }
 ],
 "metadata": {
  "kernelspec": {
   "display_name": "DSE5002",
   "language": "python",
   "name": "python3"
  },
  "language_info": {
   "codemirror_mode": {
    "name": "ipython",
    "version": 3
   },
   "file_extension": ".py",
   "mimetype": "text/x-python",
   "name": "python",
   "nbconvert_exporter": "python",
   "pygments_lexer": "ipython3",
   "version": "3.12.4"
  }
 },
 "nbformat": 4,
 "nbformat_minor": 5
}
